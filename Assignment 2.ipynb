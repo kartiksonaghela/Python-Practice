{
 "cells": [
  {
   "cell_type": "code",
   "execution_count": 1,
   "metadata": {},
   "outputs": [
    {
     "name": "stdout",
     "output_type": "stream",
     "text": [
      "10\n"
     ]
    }
   ],
   "source": [
    "#Task1\n",
    "#Q1.1\n",
    "def do_sum(x1, x2): \n",
    "    return x1 + x2\n",
    "\n",
    "def my_reduce(func, a):\n",
    "    b = a[0]\n",
    "    for i in a[1:]:\n",
    "        b = func(b, i)\n",
    "    return b\n",
    "\n",
    "print(my_reduce(do_sum, [1, 2, 3, 4]))\n"
   ]
  },
  {
   "cell_type": "code",
   "execution_count": 2,
   "metadata": {},
   "outputs": [
    {
     "name": "stdout",
     "output_type": "stream",
     "text": [
      "b\n",
      "d\n"
     ]
    }
   ],
   "source": [
    "#Task1\n",
    "#Q1.2\n",
    "list1=[\"a\",\"b\",\"c\",\"d\"]\n",
    "list2=[\"b\",\"d\",\"e\"]\n",
    "def check(i,j):\n",
    "    if(i==j):\n",
    "        print(i)\n",
    "def myfilter(list1,list2):\n",
    "    for i in list1:\n",
    "        for j in list2:\n",
    "            check(i,j)\n",
    "final_list=myfilter(list1,list2)"
   ]
  },
  {
   "cell_type": "code",
   "execution_count": 3,
   "metadata": {},
   "outputs": [
    {
     "name": "stdout",
     "output_type": "stream",
     "text": [
      "['A', 'C', 'A', 'D', 'G', 'I', 'L', 'D']\n"
     ]
    }
   ],
   "source": [
    "#Task2\n",
    "#Q2\n",
    "word = \"ACADGILD\"\n",
    "alphabet_list = [ alphabet for alphabet in word ]\n",
    "print(alphabet_list)"
   ]
  },
  {
   "cell_type": "code",
   "execution_count": 4,
   "metadata": {},
   "outputs": [
    {
     "name": "stdout",
     "output_type": "stream",
     "text": [
      "['x', 'xx', 'xxx', 'xxxx', 'y', 'yy', 'yyy', 'yyyy', 'z', 'zz', 'zzz', 'zzzz']\n"
     ]
    }
   ],
   "source": [
    "#Task2\n",
    "lista =  [i*chr(j)  for j in range(120,123) for i in range(1,5)]\n",
    "print(lista)"
   ]
  },
  {
   "cell_type": "code",
   "execution_count": 5,
   "metadata": {},
   "outputs": [
    {
     "data": {
      "text/plain": [
       "['x', 'y', 'z', 'xx', 'yy', 'zz', 'xxx', 'yyy', 'zzz', 'xxxx', 'yyyy', 'zzzz']"
      ]
     },
     "execution_count": 5,
     "metadata": {},
     "output_type": "execute_result"
    }
   ],
   "source": [
    "#Task2\n",
    "lista = [ i*chr(j) for i in range(1,5) for j in range(120,123)]\n",
    "lista"
   ]
  },
  {
   "cell_type": "code",
   "execution_count": 6,
   "metadata": {},
   "outputs": [
    {
     "name": "stdout",
     "output_type": "stream",
     "text": [
      "[[2], [3], [4], [3], [4], [5], [4], [5], [6]]\n"
     ]
    }
   ],
   "source": [
    "#Task2\n",
    "lista = [[i+j ]for i in range(1,4) for j in range(1,4)]\n",
    "print(lista)"
   ]
  },
  {
   "cell_type": "code",
   "execution_count": 7,
   "metadata": {},
   "outputs": [
    {
     "name": "stdout",
     "output_type": "stream",
     "text": [
      "[[2, 3, 4, 5], [3, 4, 5, 6], [4, 5, 6, 7], [5, 6, 7, 8]]\n"
     ]
    }
   ],
   "source": [
    "#Task2\n",
    "lista = [[i+j for i in range(1,5)] for j in range(1,5)]\n",
    "print(lista)"
   ]
  },
  {
   "cell_type": "code",
   "execution_count": 8,
   "metadata": {},
   "outputs": [
    {
     "name": "stdout",
     "output_type": "stream",
     "text": [
      "[(1, 1), (2, 1), (3, 1), (1, 2), (2, 2), (3, 2), (1, 3), (2, 3), (3, 3)]\n"
     ]
    }
   ],
   "source": [
    "#Task2\n",
    "lista = [(i,j) for j in range(1,4) for i in range(1,4)]\n",
    "print(lista)"
   ]
  },
  {
   "cell_type": "code",
   "execution_count": 9,
   "metadata": {},
   "outputs": [
    {
     "name": "stdout",
     "output_type": "stream",
     "text": [
      "LongestWord: fghjklsdf\n"
     ]
    }
   ],
   "source": [
    "#Task2\n",
    "#Q3\n",
    "def longestword(li):\n",
    "    print(\"LongestWord:\",max(li,key=len))\n",
    "li=['abcde','pq','sghdkd','fghjklsdf']\n",
    "longestword(li)"
   ]
  },
  {
   "cell_type": "code",
   "execution_count": 6,
   "metadata": {},
   "outputs": [
    {
     "name": "stdout",
     "output_type": "stream",
     "text": [
      "Enter the letter: t\n",
      "False\n"
     ]
    }
   ],
   "source": [
    "#task2\n",
    "#Q 2.2\n",
    "a=input(\"Enter the letter: \")\n",
    "l=['a','e','i','o','u','A','E','I','O','U']\n",
    "def vowel(a):\n",
    "    if(a in l):\n",
    "        return True\n",
    "    else:\n",
    "        return False\n",
    "print(vowel(a))\n",
    "\n"
   ]
  },
  {
   "cell_type": "code",
   "execution_count": 10,
   "metadata": {},
   "outputs": [
    {
     "name": "stdout",
     "output_type": "stream",
     "text": [
      "[2, 2, 3]\n"
     ]
    }
   ],
   "source": [
    "#task 2\n",
    "#Q2.1\n",
    "li=['ab','cd','efd']\n",
    "def cal_length(variable):\n",
    "    return len(variable)\n",
    "print(list(map(cal_length,li)))"
   ]
  },
  {
   "cell_type": "code",
   "execution_count": 16,
   "metadata": {},
   "outputs": [
    {
     "name": "stdout",
     "output_type": "stream",
     "text": [
      "enter the length4\n",
      "['abdsjd', 'rtros', 'cvbnmertyu']\n"
     ]
    }
   ],
   "source": [
    "#task 2\n",
    "#Q1.2\n",
    "n=int(input(\"enter the length\"))\n",
    "li=[\"abdsjd\",\"rtros\",\"cvbnmertyu\",\"assd\",\"sdh\"]\n",
    "def filter_long_words(a):\n",
    "    if(len(a)>n):\n",
    "        return a\n",
    "print(list(filter(filter_long_words,li)))"
   ]
  },
  {
   "cell_type": "code",
   "execution_count": 34,
   "metadata": {},
   "outputs": [
    {
     "name": "stdout",
     "output_type": "stream",
     "text": [
      "10 20 30\n",
      "768.5213074469699\n"
     ]
    }
   ],
   "source": [
    "#task 2\n",
    "#Q1.1\n",
    "class area:\n",
    "    def __init__(self,a,b,c,s):\n",
    "        self.a=a\n",
    "        self.b=b\n",
    "        self.c=c\n",
    "        self.s=s\n",
    "    def cal(self,a,b,c,s):\n",
    "        return (s*(s-a)*(s-b)*(s-c)) ** 0.5\n",
    "a,b,c=map(int,input().split())\n",
    "s=(a+b+c/2)\n",
    "final=area(a,b,c,s)\n",
    "print(final.cal(a,b,c,s))"
   ]
  },
  {
   "cell_type": "code",
   "execution_count": null,
   "metadata": {},
   "outputs": [],
   "source": []
  },
  {
   "cell_type": "code",
   "execution_count": null,
   "metadata": {},
   "outputs": [],
   "source": []
  }
 ],
 "metadata": {
  "kernelspec": {
   "display_name": "Python 3",
   "language": "python",
   "name": "python3"
  },
  "language_info": {
   "codemirror_mode": {
    "name": "ipython",
    "version": 3
   },
   "file_extension": ".py",
   "mimetype": "text/x-python",
   "name": "python",
   "nbconvert_exporter": "python",
   "pygments_lexer": "ipython3",
   "version": "3.7.4"
  }
 },
 "nbformat": 4,
 "nbformat_minor": 2
}
